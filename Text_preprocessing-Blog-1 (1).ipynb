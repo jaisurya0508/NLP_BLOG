{
 "cells": [
  {
   "cell_type": "code",
   "execution_count": null,
   "id": "e8451e68",
   "metadata": {},
   "outputs": [],
   "source": []
  },
  {
   "cell_type": "code",
   "execution_count": 289,
   "id": "1f66f45a",
   "metadata": {},
   "outputs": [],
   "source": [
    "import pandas as pd\n",
    "df=pd.read_csv('tweet_data.csv')"
   ]
  },
  {
   "cell_type": "code",
   "execution_count": 290,
   "id": "51fbdaa4",
   "metadata": {
    "scrolled": true
   },
   "outputs": [
    {
     "data": {
      "text/html": [
       "<div>\n",
       "<style scoped>\n",
       "    .dataframe tbody tr th:only-of-type {\n",
       "        vertical-align: middle;\n",
       "    }\n",
       "\n",
       "    .dataframe tbody tr th {\n",
       "        vertical-align: top;\n",
       "    }\n",
       "\n",
       "    .dataframe thead th {\n",
       "        text-align: right;\n",
       "    }\n",
       "</style>\n",
       "<table border=\"1\" class=\"dataframe\">\n",
       "  <thead>\n",
       "    <tr style=\"text-align: right;\">\n",
       "      <th></th>\n",
       "      <th>id</th>\n",
       "      <th>target</th>\n",
       "      <th>Scrapped_text</th>\n",
       "    </tr>\n",
       "  </thead>\n",
       "  <tbody>\n",
       "    <tr>\n",
       "      <th>0</th>\n",
       "      <td>2050755250</td>\n",
       "      <td>4</td>\n",
       "      <td>I'm not bunking any class there 2 days. Hey, t...</td>\n",
       "    </tr>\n",
       "    <tr>\n",
       "      <th>1</th>\n",
       "      <td>2193272702</td>\n",
       "      <td>0</td>\n",
       "      <td>@Saroyel I've taken my migraine meds, and have...</td>\n",
       "    </tr>\n",
       "    <tr>\n",
       "      <th>2</th>\n",
       "      <td>2224796951</td>\n",
       "      <td>0</td>\n",
       "      <td>@PRCog You are killing me with this. I so wish...</td>\n",
       "    </tr>\n",
       "    <tr>\n",
       "      <th>3</th>\n",
       "      <td>2069093415</td>\n",
       "      <td>0</td>\n",
       "      <td>@selenagomez cut her hair off. my poor guy fri...</td>\n",
       "    </tr>\n",
       "    <tr>\n",
       "      <th>4</th>\n",
       "      <td>1970149748</td>\n",
       "      <td>4</td>\n",
       "      <td>that is hilarious! Https://www.amazon.in</td>\n",
       "    </tr>\n",
       "  </tbody>\n",
       "</table>\n",
       "</div>"
      ],
      "text/plain": [
       "           id  target                                      Scrapped_text\n",
       "0  2050755250       4  I'm not bunking any class there 2 days. Hey, t...\n",
       "1  2193272702       0  @Saroyel I've taken my migraine meds, and have...\n",
       "2  2224796951       0  @PRCog You are killing me with this. I so wish...\n",
       "3  2069093415       0  @selenagomez cut her hair off. my poor guy fri...\n",
       "4  1970149748       4           that is hilarious! Https://www.amazon.in"
      ]
     },
     "execution_count": 290,
     "metadata": {},
     "output_type": "execute_result"
    }
   ],
   "source": [
    "df.head()"
   ]
  },
  {
   "cell_type": "code",
   "execution_count": 291,
   "id": "a356aff1",
   "metadata": {},
   "outputs": [],
   "source": [
    "#Text Preprocessing\n",
    "#1.convert to lowercase\n",
    "df['to_lower']= df['Scrapped_text'].apply(lambda x: x.lower())"
   ]
  },
  {
   "cell_type": "code",
   "execution_count": 292,
   "id": "3c810871",
   "metadata": {},
   "outputs": [
    {
     "data": {
      "text/html": [
       "<div>\n",
       "<style scoped>\n",
       "    .dataframe tbody tr th:only-of-type {\n",
       "        vertical-align: middle;\n",
       "    }\n",
       "\n",
       "    .dataframe tbody tr th {\n",
       "        vertical-align: top;\n",
       "    }\n",
       "\n",
       "    .dataframe thead th {\n",
       "        text-align: right;\n",
       "    }\n",
       "</style>\n",
       "<table border=\"1\" class=\"dataframe\">\n",
       "  <thead>\n",
       "    <tr style=\"text-align: right;\">\n",
       "      <th></th>\n",
       "      <th>id</th>\n",
       "      <th>target</th>\n",
       "      <th>Scrapped_text</th>\n",
       "      <th>to_lower</th>\n",
       "    </tr>\n",
       "  </thead>\n",
       "  <tbody>\n",
       "    <tr>\n",
       "      <th>0</th>\n",
       "      <td>2050755250</td>\n",
       "      <td>4</td>\n",
       "      <td>I'm not bunking any class there 2 days. Hey, t...</td>\n",
       "      <td>i'm not bunking any class there 2 days. hey, t...</td>\n",
       "    </tr>\n",
       "    <tr>\n",
       "      <th>1</th>\n",
       "      <td>2193272702</td>\n",
       "      <td>0</td>\n",
       "      <td>@Saroyel I've taken my migraine meds, and have...</td>\n",
       "      <td>@saroyel i've taken my migraine meds, and have...</td>\n",
       "    </tr>\n",
       "    <tr>\n",
       "      <th>2</th>\n",
       "      <td>2224796951</td>\n",
       "      <td>0</td>\n",
       "      <td>@PRCog You are killing me with this. I so wish...</td>\n",
       "      <td>@prcog you are killing me with this. i so wish...</td>\n",
       "    </tr>\n",
       "    <tr>\n",
       "      <th>3</th>\n",
       "      <td>2069093415</td>\n",
       "      <td>0</td>\n",
       "      <td>@selenagomez cut her hair off. my poor guy fri...</td>\n",
       "      <td>@selenagomez cut her hair off. my poor guy fri...</td>\n",
       "    </tr>\n",
       "    <tr>\n",
       "      <th>4</th>\n",
       "      <td>1970149748</td>\n",
       "      <td>4</td>\n",
       "      <td>that is hilarious! Https://www.amazon.in</td>\n",
       "      <td>that is hilarious! https://www.amazon.in</td>\n",
       "    </tr>\n",
       "  </tbody>\n",
       "</table>\n",
       "</div>"
      ],
      "text/plain": [
       "           id  target                                      Scrapped_text  \\\n",
       "0  2050755250       4  I'm not bunking any class there 2 days. Hey, t...   \n",
       "1  2193272702       0  @Saroyel I've taken my migraine meds, and have...   \n",
       "2  2224796951       0  @PRCog You are killing me with this. I so wish...   \n",
       "3  2069093415       0  @selenagomez cut her hair off. my poor guy fri...   \n",
       "4  1970149748       4           that is hilarious! Https://www.amazon.in   \n",
       "\n",
       "                                            to_lower  \n",
       "0  i'm not bunking any class there 2 days. hey, t...  \n",
       "1  @saroyel i've taken my migraine meds, and have...  \n",
       "2  @prcog you are killing me with this. i so wish...  \n",
       "3  @selenagomez cut her hair off. my poor guy fri...  \n",
       "4           that is hilarious! https://www.amazon.in  "
      ]
     },
     "execution_count": 292,
     "metadata": {},
     "output_type": "execute_result"
    }
   ],
   "source": [
    "df.head()"
   ]
  },
  {
   "cell_type": "code",
   "execution_count": 293,
   "id": "99aa0b58",
   "metadata": {},
   "outputs": [],
   "source": [
    "#2.Exapnd the contracted words\n",
    "import re\n",
    "def contracted(s):\n",
    "    s = re.sub(r\"won't\", \" will not\",s)\n",
    "    s = re.sub(r\"would't\", \" would not\",s)\n",
    "    s = re.sub(r\"could't\", \" could not\",s)\n",
    "    s = re.sub(r\"\\'d\", \" would\",s)\n",
    "    s = re.sub(r\"can\\'t\", \" can not\",s)\n",
    "    s = re.sub(r\"n\\’t\", \" not\", s)\n",
    "    s= re.sub(r\"\\'re\", \" are\", s)\n",
    "    s = re.sub(r\"\\'s\", \" is\", s) \n",
    "    s = re.sub(r\"\\'ll\", \" will\", s)\n",
    "    s = re.sub(r\"\\'t\",  \" not\", s)\n",
    "    s = re.sub(r\"\\'ve\", \" have\", s)\n",
    "    s = re.sub(r\"\\'m\", \" am\", s)\n",
    "    return s\n"
   ]
  },
  {
   "cell_type": "code",
   "execution_count": 294,
   "id": "9ccd4a86",
   "metadata": {},
   "outputs": [],
   "source": [
    "df['contracted_word']=df['to_lower'].apply(lambda x:contracted(x))"
   ]
  },
  {
   "cell_type": "code",
   "execution_count": 295,
   "id": "06fa2f06",
   "metadata": {
    "scrolled": false
   },
   "outputs": [
    {
     "data": {
      "text/html": [
       "<div>\n",
       "<style scoped>\n",
       "    .dataframe tbody tr th:only-of-type {\n",
       "        vertical-align: middle;\n",
       "    }\n",
       "\n",
       "    .dataframe tbody tr th {\n",
       "        vertical-align: top;\n",
       "    }\n",
       "\n",
       "    .dataframe thead th {\n",
       "        text-align: right;\n",
       "    }\n",
       "</style>\n",
       "<table border=\"1\" class=\"dataframe\">\n",
       "  <thead>\n",
       "    <tr style=\"text-align: right;\">\n",
       "      <th></th>\n",
       "      <th>to_lower</th>\n",
       "      <th>contracted_word</th>\n",
       "    </tr>\n",
       "  </thead>\n",
       "  <tbody>\n",
       "    <tr>\n",
       "      <th>0</th>\n",
       "      <td>i'm not bunking any class there 2 days. hey, t...</td>\n",
       "      <td>i am not bunking any class there 2 days. hey, ...</td>\n",
       "    </tr>\n",
       "    <tr>\n",
       "      <th>1</th>\n",
       "      <td>@saroyel i've taken my migraine meds, and have...</td>\n",
       "      <td>@saroyel i have taken my migraine meds, and ha...</td>\n",
       "    </tr>\n",
       "    <tr>\n",
       "      <th>2</th>\n",
       "      <td>@prcog you are killing me with this. i so wish...</td>\n",
       "      <td>@prcog you are killing me with this. i so wish...</td>\n",
       "    </tr>\n",
       "    <tr>\n",
       "      <th>3</th>\n",
       "      <td>@selenagomez cut her hair off. my poor guy fri...</td>\n",
       "      <td>@selenagomez cut her hair off. my poor guy fri...</td>\n",
       "    </tr>\n",
       "    <tr>\n",
       "      <th>4</th>\n",
       "      <td>that is hilarious! https://www.amazon.in</td>\n",
       "      <td>that is hilarious! https://www.amazon.in</td>\n",
       "    </tr>\n",
       "  </tbody>\n",
       "</table>\n",
       "</div>"
      ],
      "text/plain": [
       "                                            to_lower  \\\n",
       "0  i'm not bunking any class there 2 days. hey, t...   \n",
       "1  @saroyel i've taken my migraine meds, and have...   \n",
       "2  @prcog you are killing me with this. i so wish...   \n",
       "3  @selenagomez cut her hair off. my poor guy fri...   \n",
       "4           that is hilarious! https://www.amazon.in   \n",
       "\n",
       "                                     contracted_word  \n",
       "0  i am not bunking any class there 2 days. hey, ...  \n",
       "1  @saroyel i have taken my migraine meds, and ha...  \n",
       "2  @prcog you are killing me with this. i so wish...  \n",
       "3  @selenagomez cut her hair off. my poor guy fri...  \n",
       "4           that is hilarious! https://www.amazon.in  "
      ]
     },
     "execution_count": 295,
     "metadata": {},
     "output_type": "execute_result"
    }
   ],
   "source": [
    "df[['to_lower','contracted_word']].head()"
   ]
  },
  {
   "cell_type": "code",
   "execution_count": 296,
   "id": "aaf283b2",
   "metadata": {},
   "outputs": [],
   "source": [
    "#3.remove URL\n",
    "def remove_URL(text):\n",
    "    return re.sub(r'http\\S+', '',text)"
   ]
  },
  {
   "cell_type": "code",
   "execution_count": 297,
   "id": "7c607d6a",
   "metadata": {
    "scrolled": false
   },
   "outputs": [
    {
     "data": {
      "text/html": [
       "<div>\n",
       "<style scoped>\n",
       "    .dataframe tbody tr th:only-of-type {\n",
       "        vertical-align: middle;\n",
       "    }\n",
       "\n",
       "    .dataframe tbody tr th {\n",
       "        vertical-align: top;\n",
       "    }\n",
       "\n",
       "    .dataframe thead th {\n",
       "        text-align: right;\n",
       "    }\n",
       "</style>\n",
       "<table border=\"1\" class=\"dataframe\">\n",
       "  <thead>\n",
       "    <tr style=\"text-align: right;\">\n",
       "      <th></th>\n",
       "      <th>contracted_word</th>\n",
       "      <th>remove_URL</th>\n",
       "    </tr>\n",
       "  </thead>\n",
       "  <tbody>\n",
       "    <tr>\n",
       "      <th>0</th>\n",
       "      <td>i am not bunking any class there 2 days. hey, ...</td>\n",
       "      <td>i am not bunking any class there 2 days. hey, ...</td>\n",
       "    </tr>\n",
       "    <tr>\n",
       "      <th>1</th>\n",
       "      <td>@saroyel i have taken my migraine meds, and ha...</td>\n",
       "      <td>@saroyel i have taken my migraine meds, and ha...</td>\n",
       "    </tr>\n",
       "    <tr>\n",
       "      <th>2</th>\n",
       "      <td>@prcog you are killing me with this. i so wish...</td>\n",
       "      <td>@prcog you are killing me with this. i so wish...</td>\n",
       "    </tr>\n",
       "    <tr>\n",
       "      <th>3</th>\n",
       "      <td>@selenagomez cut her hair off. my poor guy fri...</td>\n",
       "      <td>@selenagomez cut her hair off. my poor guy fri...</td>\n",
       "    </tr>\n",
       "    <tr>\n",
       "      <th>4</th>\n",
       "      <td>that is hilarious! https://www.amazon.in</td>\n",
       "      <td>that is hilarious!</td>\n",
       "    </tr>\n",
       "  </tbody>\n",
       "</table>\n",
       "</div>"
      ],
      "text/plain": [
       "                                     contracted_word  \\\n",
       "0  i am not bunking any class there 2 days. hey, ...   \n",
       "1  @saroyel i have taken my migraine meds, and ha...   \n",
       "2  @prcog you are killing me with this. i so wish...   \n",
       "3  @selenagomez cut her hair off. my poor guy fri...   \n",
       "4           that is hilarious! https://www.amazon.in   \n",
       "\n",
       "                                          remove_URL  \n",
       "0  i am not bunking any class there 2 days. hey, ...  \n",
       "1  @saroyel i have taken my migraine meds, and ha...  \n",
       "2  @prcog you are killing me with this. i so wish...  \n",
       "3  @selenagomez cut her hair off. my poor guy fri...  \n",
       "4                                that is hilarious!   "
      ]
     },
     "execution_count": 297,
     "metadata": {},
     "output_type": "execute_result"
    }
   ],
   "source": [
    "df['remove_URL']=df['contracted_word'].apply(lambda x:remove_URL(x))\n",
    "df[['contracted_word','remove_URL']].head()"
   ]
  },
  {
   "cell_type": "code",
   "execution_count": 298,
   "id": "29a0b065",
   "metadata": {},
   "outputs": [],
   "source": [
    "#4.Remove html tags\n",
    "from bs4 import BeautifulSoup\n",
    "def remove_html(x):\n",
    "    cleantext = BeautifulSoup(x, \"lxml\").text\n",
    "    return cleantext"
   ]
  },
  {
   "cell_type": "code",
   "execution_count": 327,
   "id": "46c6bfb7",
   "metadata": {},
   "outputs": [
    {
     "data": {
      "text/html": [
       "<div>\n",
       "<style scoped>\n",
       "    .dataframe tbody tr th:only-of-type {\n",
       "        vertical-align: middle;\n",
       "    }\n",
       "\n",
       "    .dataframe tbody tr th {\n",
       "        vertical-align: top;\n",
       "    }\n",
       "\n",
       "    .dataframe thead th {\n",
       "        text-align: right;\n",
       "    }\n",
       "</style>\n",
       "<table border=\"1\" class=\"dataframe\">\n",
       "  <thead>\n",
       "    <tr style=\"text-align: right;\">\n",
       "      <th></th>\n",
       "      <th>remove_URL</th>\n",
       "      <th>remove_html</th>\n",
       "    </tr>\n",
       "  </thead>\n",
       "  <tbody>\n",
       "    <tr>\n",
       "      <th>990</th>\n",
       "      <td>@jmuscara thanks for the advice. i will be sur...</td>\n",
       "      <td>@jmuscara thanks for the advice. i will be sur...</td>\n",
       "    </tr>\n",
       "    <tr>\n",
       "      <th>991</th>\n",
       "      <td>@sundeeptoor aww  you got a deadline?</td>\n",
       "      <td>@sundeeptoor aww  you got a deadline?</td>\n",
       "    </tr>\n",
       "    <tr>\n",
       "      <th>992</th>\n",
       "      <td>major focus issues in rehearsal today-wish i w...</td>\n",
       "      <td>major focus issues in rehearsal today-wish i w...</td>\n",
       "    </tr>\n",
       "    <tr>\n",
       "      <th>993</th>\n",
       "      <td>loves my life on the d-list with @officialkathyg</td>\n",
       "      <td>loves my life on the d-list with @officialkathyg</td>\n",
       "    </tr>\n",
       "    <tr>\n",
       "      <th>994</th>\n",
       "      <td>&lt;br&gt; i killed my furby tooo &lt;/br&gt;</td>\n",
       "      <td>i killed my furby tooo</td>\n",
       "    </tr>\n",
       "    <tr>\n",
       "      <th>995</th>\n",
       "      <td>@labelsnotlove i woke up thinking the same thing</td>\n",
       "      <td>@labelsnotlove i woke up thinking the same thing</td>\n",
       "    </tr>\n",
       "    <tr>\n",
       "      <th>996</th>\n",
       "      <td>@davidfowl there can be only one! envy code r</td>\n",
       "      <td>@davidfowl there can be only one! envy code r</td>\n",
       "    </tr>\n",
       "    <tr>\n",
       "      <th>997</th>\n",
       "      <td>due to my insomnia i will be up real late, so,...</td>\n",
       "      <td>due to my insomnia i will be up real late, so,...</td>\n",
       "    </tr>\n",
       "    <tr>\n",
       "      <th>998</th>\n",
       "      <td>going to the softball game tonight.. 6-8 at ro...</td>\n",
       "      <td>going to the softball game tonight.. 6-8 at ro...</td>\n",
       "    </tr>\n",
       "    <tr>\n",
       "      <th>999</th>\n",
       "      <td>...it is   really too early.</td>\n",
       "      <td>...it is   really too early.</td>\n",
       "    </tr>\n",
       "  </tbody>\n",
       "</table>\n",
       "</div>"
      ],
      "text/plain": [
       "                                            remove_URL  \\\n",
       "990  @jmuscara thanks for the advice. i will be sur...   \n",
       "991              @sundeeptoor aww  you got a deadline?   \n",
       "992  major focus issues in rehearsal today-wish i w...   \n",
       "993  loves my life on the d-list with @officialkathyg    \n",
       "994                  <br> i killed my furby tooo </br>   \n",
       "995  @labelsnotlove i woke up thinking the same thing    \n",
       "996     @davidfowl there can be only one! envy code r    \n",
       "997  due to my insomnia i will be up real late, so,...   \n",
       "998  going to the softball game tonight.. 6-8 at ro...   \n",
       "999                     ...it is   really too early.     \n",
       "\n",
       "                                           remove_html  \n",
       "990  @jmuscara thanks for the advice. i will be sur...  \n",
       "991              @sundeeptoor aww  you got a deadline?  \n",
       "992  major focus issues in rehearsal today-wish i w...  \n",
       "993  loves my life on the d-list with @officialkathyg   \n",
       "994                            i killed my furby tooo   \n",
       "995  @labelsnotlove i woke up thinking the same thing   \n",
       "996     @davidfowl there can be only one! envy code r   \n",
       "997  due to my insomnia i will be up real late, so,...  \n",
       "998  going to the softball game tonight.. 6-8 at ro...  \n",
       "999                     ...it is   really too early.    "
      ]
     },
     "execution_count": 327,
     "metadata": {},
     "output_type": "execute_result"
    }
   ],
   "source": [
    "df['remove_html']=df['remove_URL'].apply(lambda x:remove_html(x))\n",
    "df[['remove_URL','remove_html']].tail(10)"
   ]
  },
  {
   "cell_type": "code",
   "execution_count": 300,
   "id": "7c6f5832",
   "metadata": {},
   "outputs": [],
   "source": [
    "#5.punctuation and Special character removal\n",
    "def remove_punctuation(text):\n",
    "    return re.sub('[^a-zA-Z]',' ',text)"
   ]
  },
  {
   "cell_type": "code",
   "execution_count": 301,
   "id": "d38a97d8",
   "metadata": {},
   "outputs": [],
   "source": [
    "df['remove_punc']=df['remove_html'].apply(lambda x:remove_punctuation(x))"
   ]
  },
  {
   "cell_type": "code",
   "execution_count": 302,
   "id": "133942b4",
   "metadata": {
    "scrolled": false
   },
   "outputs": [
    {
     "data": {
      "text/html": [
       "<div>\n",
       "<style scoped>\n",
       "    .dataframe tbody tr th:only-of-type {\n",
       "        vertical-align: middle;\n",
       "    }\n",
       "\n",
       "    .dataframe tbody tr th {\n",
       "        vertical-align: top;\n",
       "    }\n",
       "\n",
       "    .dataframe thead th {\n",
       "        text-align: right;\n",
       "    }\n",
       "</style>\n",
       "<table border=\"1\" class=\"dataframe\">\n",
       "  <thead>\n",
       "    <tr style=\"text-align: right;\">\n",
       "      <th></th>\n",
       "      <th>remove_html</th>\n",
       "      <th>remove_punc</th>\n",
       "    </tr>\n",
       "  </thead>\n",
       "  <tbody>\n",
       "    <tr>\n",
       "      <th>0</th>\n",
       "      <td>i am not bunking any class there 2 days. hey, ...</td>\n",
       "      <td>i am not bunking any class there   days  hey  ...</td>\n",
       "    </tr>\n",
       "    <tr>\n",
       "      <th>1</th>\n",
       "      <td>@saroyel i have taken my migraine meds, and ha...</td>\n",
       "      <td>saroyel i have taken my migraine meds  and ha...</td>\n",
       "    </tr>\n",
       "    <tr>\n",
       "      <th>2</th>\n",
       "      <td>@prcog you are killing me with this. i so wish...</td>\n",
       "      <td>prcog you are killing me with this  i so wish...</td>\n",
       "    </tr>\n",
       "    <tr>\n",
       "      <th>3</th>\n",
       "      <td>@selenagomez cut her hair off. my poor guy fri...</td>\n",
       "      <td>selenagomez cut her hair off  my poor guy fri...</td>\n",
       "    </tr>\n",
       "    <tr>\n",
       "      <th>4</th>\n",
       "      <td>that is hilarious!</td>\n",
       "      <td>that is hilarious</td>\n",
       "    </tr>\n",
       "  </tbody>\n",
       "</table>\n",
       "</div>"
      ],
      "text/plain": [
       "                                         remove_html  \\\n",
       "0  i am not bunking any class there 2 days. hey, ...   \n",
       "1  @saroyel i have taken my migraine meds, and ha...   \n",
       "2  @prcog you are killing me with this. i so wish...   \n",
       "3  @selenagomez cut her hair off. my poor guy fri...   \n",
       "4                                that is hilarious!    \n",
       "\n",
       "                                         remove_punc  \n",
       "0  i am not bunking any class there   days  hey  ...  \n",
       "1   saroyel i have taken my migraine meds  and ha...  \n",
       "2   prcog you are killing me with this  i so wish...  \n",
       "3   selenagomez cut her hair off  my poor guy fri...  \n",
       "4                                that is hilarious    "
      ]
     },
     "execution_count": 302,
     "metadata": {},
     "output_type": "execute_result"
    }
   ],
   "source": [
    "df[['remove_html','remove_punc']].head()"
   ]
  },
  {
   "cell_type": "code",
   "execution_count": 303,
   "id": "94b029d4",
   "metadata": {},
   "outputs": [],
   "source": [
    "#6.Tokenization\n",
    "#Tokenization\n",
    "from nltk.tokenize import word_tokenize\n",
    "from nltk.tokenize import sent_tokenize"
   ]
  },
  {
   "cell_type": "code",
   "execution_count": 304,
   "id": "359f1bbd",
   "metadata": {
    "scrolled": true
   },
   "outputs": [
    {
     "data": {
      "text/html": [
       "<div>\n",
       "<style scoped>\n",
       "    .dataframe tbody tr th:only-of-type {\n",
       "        vertical-align: middle;\n",
       "    }\n",
       "\n",
       "    .dataframe tbody tr th {\n",
       "        vertical-align: top;\n",
       "    }\n",
       "\n",
       "    .dataframe thead th {\n",
       "        text-align: right;\n",
       "    }\n",
       "</style>\n",
       "<table border=\"1\" class=\"dataframe\">\n",
       "  <thead>\n",
       "    <tr style=\"text-align: right;\">\n",
       "      <th></th>\n",
       "      <th>remove_punc</th>\n",
       "      <th>word_tokenize</th>\n",
       "    </tr>\n",
       "  </thead>\n",
       "  <tbody>\n",
       "    <tr>\n",
       "      <th>0</th>\n",
       "      <td>i am not bunking any class there   days  hey  ...</td>\n",
       "      <td>[i, am, not, bunking, any, class, there, days,...</td>\n",
       "    </tr>\n",
       "    <tr>\n",
       "      <th>1</th>\n",
       "      <td>saroyel i have taken my migraine meds  and ha...</td>\n",
       "      <td>[saroyel, i, have, taken, my, migraine, meds, ...</td>\n",
       "    </tr>\n",
       "    <tr>\n",
       "      <th>2</th>\n",
       "      <td>prcog you are killing me with this  i so wish...</td>\n",
       "      <td>[prcog, you, are, killing, me, with, this, i, ...</td>\n",
       "    </tr>\n",
       "    <tr>\n",
       "      <th>3</th>\n",
       "      <td>selenagomez cut her hair off  my poor guy fri...</td>\n",
       "      <td>[selenagomez, cut, her, hair, off, my, poor, g...</td>\n",
       "    </tr>\n",
       "    <tr>\n",
       "      <th>4</th>\n",
       "      <td>that is hilarious</td>\n",
       "      <td>[that, is, hilarious]</td>\n",
       "    </tr>\n",
       "  </tbody>\n",
       "</table>\n",
       "</div>"
      ],
      "text/plain": [
       "                                         remove_punc  \\\n",
       "0  i am not bunking any class there   days  hey  ...   \n",
       "1   saroyel i have taken my migraine meds  and ha...   \n",
       "2   prcog you are killing me with this  i so wish...   \n",
       "3   selenagomez cut her hair off  my poor guy fri...   \n",
       "4                                that is hilarious     \n",
       "\n",
       "                                       word_tokenize  \n",
       "0  [i, am, not, bunking, any, class, there, days,...  \n",
       "1  [saroyel, i, have, taken, my, migraine, meds, ...  \n",
       "2  [prcog, you, are, killing, me, with, this, i, ...  \n",
       "3  [selenagomez, cut, her, hair, off, my, poor, g...  \n",
       "4                              [that, is, hilarious]  "
      ]
     },
     "execution_count": 304,
     "metadata": {},
     "output_type": "execute_result"
    }
   ],
   "source": [
    "df['word_tokenize']= df['remove_punc'].apply(lambda x:word_tokenize (x))\n",
    "df[['remove_punc','word_tokenize']].head()"
   ]
  },
  {
   "cell_type": "code",
   "execution_count": 306,
   "id": "4d9c15ea",
   "metadata": {},
   "outputs": [
    {
     "data": {
      "text/html": [
       "<div>\n",
       "<style scoped>\n",
       "    .dataframe tbody tr th:only-of-type {\n",
       "        vertical-align: middle;\n",
       "    }\n",
       "\n",
       "    .dataframe tbody tr th {\n",
       "        vertical-align: top;\n",
       "    }\n",
       "\n",
       "    .dataframe thead th {\n",
       "        text-align: right;\n",
       "    }\n",
       "</style>\n",
       "<table border=\"1\" class=\"dataframe\">\n",
       "  <thead>\n",
       "    <tr style=\"text-align: right;\">\n",
       "      <th></th>\n",
       "      <th>remove_punc</th>\n",
       "      <th>sent_tokenize</th>\n",
       "    </tr>\n",
       "  </thead>\n",
       "  <tbody>\n",
       "    <tr>\n",
       "      <th>995</th>\n",
       "      <td>labelsnotlove i woke up thinking the same thing</td>\n",
       "      <td>[ labelsnotlove i woke up thinking the same th...</td>\n",
       "    </tr>\n",
       "    <tr>\n",
       "      <th>996</th>\n",
       "      <td>davidfowl there can be only one  envy code r</td>\n",
       "      <td>[ davidfowl there can be only one  envy code r]</td>\n",
       "    </tr>\n",
       "    <tr>\n",
       "      <th>997</th>\n",
       "      <td>due to my insomnia i will be up real late  so ...</td>\n",
       "      <td>[due to my insomnia i will be up real late  so...</td>\n",
       "    </tr>\n",
       "    <tr>\n",
       "      <th>998</th>\n",
       "      <td>going to the softball game tonight       at ro...</td>\n",
       "      <td>[going to the softball game tonight       at r...</td>\n",
       "    </tr>\n",
       "    <tr>\n",
       "      <th>999</th>\n",
       "      <td>it is   really too early</td>\n",
       "      <td>[   it is   really too early]</td>\n",
       "    </tr>\n",
       "  </tbody>\n",
       "</table>\n",
       "</div>"
      ],
      "text/plain": [
       "                                           remove_punc  \\\n",
       "995   labelsnotlove i woke up thinking the same thing    \n",
       "996      davidfowl there can be only one  envy code r    \n",
       "997  due to my insomnia i will be up real late  so ...   \n",
       "998  going to the softball game tonight       at ro...   \n",
       "999                        it is   really too early      \n",
       "\n",
       "                                         sent_tokenize  \n",
       "995  [ labelsnotlove i woke up thinking the same th...  \n",
       "996    [ davidfowl there can be only one  envy code r]  \n",
       "997  [due to my insomnia i will be up real late  so...  \n",
       "998  [going to the softball game tonight       at r...  \n",
       "999                      [   it is   really too early]  "
      ]
     },
     "execution_count": 306,
     "metadata": {},
     "output_type": "execute_result"
    }
   ],
   "source": [
    "df['sent_tokenize']= df['remove_punc'].apply(lambda x:sent_tokenize (x))"
   ]
  },
  {
   "cell_type": "code",
   "execution_count": 307,
   "id": "b3b4943e",
   "metadata": {},
   "outputs": [
    {
     "data": {
      "text/plain": [
       "['i', 'me', 'my', 'myself', 'we', 'our', 'ours', 'ourselves', 'you', \"you're\"]"
      ]
     },
     "execution_count": 307,
     "metadata": {},
     "output_type": "execute_result"
    }
   ],
   "source": [
    "#7.stopwords removal\n",
    "#importing nlp library\n",
    "import nltk\n",
    "#Stop words present in the library\n",
    "stop = nltk.corpus.stopwords.words('english')\n",
    "stop[0:10]"
   ]
  },
  {
   "cell_type": "code",
   "execution_count": 308,
   "id": "eea69208",
   "metadata": {},
   "outputs": [],
   "source": [
    "#7.remove_stopwords\n",
    "#6remove stopwords\n",
    "def remove_stopwords(text):\n",
    "    output= [i for i in text if i not in stop or i in['not','can','very']]\n",
    "    return output"
   ]
  },
  {
   "cell_type": "code",
   "execution_count": 309,
   "id": "c34d4fcd",
   "metadata": {},
   "outputs": [
    {
     "data": {
      "text/html": [
       "<div>\n",
       "<style scoped>\n",
       "    .dataframe tbody tr th:only-of-type {\n",
       "        vertical-align: middle;\n",
       "    }\n",
       "\n",
       "    .dataframe tbody tr th {\n",
       "        vertical-align: top;\n",
       "    }\n",
       "\n",
       "    .dataframe thead th {\n",
       "        text-align: right;\n",
       "    }\n",
       "</style>\n",
       "<table border=\"1\" class=\"dataframe\">\n",
       "  <thead>\n",
       "    <tr style=\"text-align: right;\">\n",
       "      <th></th>\n",
       "      <th>word_tokenize</th>\n",
       "      <th>re_stopwords</th>\n",
       "    </tr>\n",
       "  </thead>\n",
       "  <tbody>\n",
       "    <tr>\n",
       "      <th>0</th>\n",
       "      <td>[i, am, not, bunking, any, class, there, days,...</td>\n",
       "      <td>[not, bunking, class, days, hey, thats, good]</td>\n",
       "    </tr>\n",
       "    <tr>\n",
       "      <th>1</th>\n",
       "      <td>[saroyel, i, have, taken, my, migraine, meds, ...</td>\n",
       "      <td>[saroyel, taken, migraine, meds, icepack, not,...</td>\n",
       "    </tr>\n",
       "    <tr>\n",
       "      <th>2</th>\n",
       "      <td>[prcog, you, are, killing, me, with, this, i, ...</td>\n",
       "      <td>[prcog, killing, wish, going, masquertweet, boo]</td>\n",
       "    </tr>\n",
       "    <tr>\n",
       "      <th>3</th>\n",
       "      <td>[selenagomez, cut, her, hair, off, my, poor, g...</td>\n",
       "      <td>[selenagomez, cut, hair, poor, guy, friends, g...</td>\n",
       "    </tr>\n",
       "    <tr>\n",
       "      <th>4</th>\n",
       "      <td>[that, is, hilarious]</td>\n",
       "      <td>[hilarious]</td>\n",
       "    </tr>\n",
       "  </tbody>\n",
       "</table>\n",
       "</div>"
      ],
      "text/plain": [
       "                                       word_tokenize  \\\n",
       "0  [i, am, not, bunking, any, class, there, days,...   \n",
       "1  [saroyel, i, have, taken, my, migraine, meds, ...   \n",
       "2  [prcog, you, are, killing, me, with, this, i, ...   \n",
       "3  [selenagomez, cut, her, hair, off, my, poor, g...   \n",
       "4                              [that, is, hilarious]   \n",
       "\n",
       "                                        re_stopwords  \n",
       "0      [not, bunking, class, days, hey, thats, good]  \n",
       "1  [saroyel, taken, migraine, meds, icepack, not,...  \n",
       "2   [prcog, killing, wish, going, masquertweet, boo]  \n",
       "3  [selenagomez, cut, hair, poor, guy, friends, g...  \n",
       "4                                        [hilarious]  "
      ]
     },
     "execution_count": 309,
     "metadata": {},
     "output_type": "execute_result"
    }
   ],
   "source": [
    "df['re_stopwords']=df['word_tokenize'].apply(lambda x: remove_stopwords(x))\n",
    "df[['word_tokenize','re_stopwords']].head()"
   ]
  },
  {
   "cell_type": "code",
   "execution_count": 310,
   "id": "7e3acb04",
   "metadata": {},
   "outputs": [],
   "source": [
    "#8. stemming\n",
    "#importing the Stemming function from nltk library\n",
    "from nltk.stem.porter import PorterStemmer\n",
    "porter_stemmer = PorterStemmer()"
   ]
  },
  {
   "cell_type": "code",
   "execution_count": 311,
   "id": "fa485632",
   "metadata": {},
   "outputs": [],
   "source": [
    "def stemming_text(text):\n",
    "    stem_text=[porter_stemmer.stem(word) for word in text]\n",
    "    return stem_text"
   ]
  },
  {
   "cell_type": "code",
   "execution_count": 312,
   "id": "dbdf2de6",
   "metadata": {},
   "outputs": [],
   "source": [
    "df['stem_data']=df['re_stopwords'].apply(lambda x:stemming_text(x))"
   ]
  },
  {
   "cell_type": "code",
   "execution_count": 313,
   "id": "a9fb5475",
   "metadata": {},
   "outputs": [
    {
     "data": {
      "text/html": [
       "<div>\n",
       "<style scoped>\n",
       "    .dataframe tbody tr th:only-of-type {\n",
       "        vertical-align: middle;\n",
       "    }\n",
       "\n",
       "    .dataframe tbody tr th {\n",
       "        vertical-align: top;\n",
       "    }\n",
       "\n",
       "    .dataframe thead th {\n",
       "        text-align: right;\n",
       "    }\n",
       "</style>\n",
       "<table border=\"1\" class=\"dataframe\">\n",
       "  <thead>\n",
       "    <tr style=\"text-align: right;\">\n",
       "      <th></th>\n",
       "      <th>re_stopwords</th>\n",
       "      <th>stem_data</th>\n",
       "    </tr>\n",
       "  </thead>\n",
       "  <tbody>\n",
       "    <tr>\n",
       "      <th>0</th>\n",
       "      <td>[not, bunking, class, days, hey, thats, good]</td>\n",
       "      <td>[not, bunk, class, day, hey, that, good]</td>\n",
       "    </tr>\n",
       "    <tr>\n",
       "      <th>1</th>\n",
       "      <td>[saroyel, taken, migraine, meds, icepack, not,...</td>\n",
       "      <td>[saroyel, taken, migrain, med, icepack, not, g...</td>\n",
       "    </tr>\n",
       "    <tr>\n",
       "      <th>2</th>\n",
       "      <td>[prcog, killing, wish, going, masquertweet, boo]</td>\n",
       "      <td>[prcog, kill, wish, go, masquertweet, boo]</td>\n",
       "    </tr>\n",
       "    <tr>\n",
       "      <th>3</th>\n",
       "      <td>[selenagomez, cut, hair, poor, guy, friends, g...</td>\n",
       "      <td>[selenagomez, cut, hair, poor, guy, friend, go...</td>\n",
       "    </tr>\n",
       "    <tr>\n",
       "      <th>4</th>\n",
       "      <td>[hilarious]</td>\n",
       "      <td>[hilari]</td>\n",
       "    </tr>\n",
       "  </tbody>\n",
       "</table>\n",
       "</div>"
      ],
      "text/plain": [
       "                                        re_stopwords  \\\n",
       "0      [not, bunking, class, days, hey, thats, good]   \n",
       "1  [saroyel, taken, migraine, meds, icepack, not,...   \n",
       "2   [prcog, killing, wish, going, masquertweet, boo]   \n",
       "3  [selenagomez, cut, hair, poor, guy, friends, g...   \n",
       "4                                        [hilarious]   \n",
       "\n",
       "                                           stem_data  \n",
       "0           [not, bunk, class, day, hey, that, good]  \n",
       "1  [saroyel, taken, migrain, med, icepack, not, g...  \n",
       "2         [prcog, kill, wish, go, masquertweet, boo]  \n",
       "3  [selenagomez, cut, hair, poor, guy, friend, go...  \n",
       "4                                           [hilari]  "
      ]
     },
     "execution_count": 313,
     "metadata": {},
     "output_type": "execute_result"
    }
   ],
   "source": [
    "df[['re_stopwords','stem_data']].head()"
   ]
  },
  {
   "cell_type": "code",
   "execution_count": 314,
   "id": "dc6e8611",
   "metadata": {},
   "outputs": [],
   "source": [
    "#lemmatization\n",
    "from nltk.stem import WordNetLemmatizer\n",
    "wordnet_lemmatizer = WordNetLemmatizer()"
   ]
  },
  {
   "cell_type": "code",
   "execution_count": 315,
   "id": "577a0669",
   "metadata": {},
   "outputs": [],
   "source": [
    "#defining the function for lemmatization\n",
    "def lemmatizer(text):\n",
    "    lemm_text = [wordnet_lemmatizer.lemmatize(word) for word in text]\n",
    "    return lemm_text\n"
   ]
  },
  {
   "cell_type": "code",
   "execution_count": 316,
   "id": "e4d5c281",
   "metadata": {},
   "outputs": [],
   "source": [
    "df['lemma_data']=df['re_stopwords'].apply(lambda x:lemmatizer(x))"
   ]
  },
  {
   "cell_type": "code",
   "execution_count": 317,
   "id": "1f9e7014",
   "metadata": {},
   "outputs": [
    {
     "data": {
      "text/html": [
       "<div>\n",
       "<style scoped>\n",
       "    .dataframe tbody tr th:only-of-type {\n",
       "        vertical-align: middle;\n",
       "    }\n",
       "\n",
       "    .dataframe tbody tr th {\n",
       "        vertical-align: top;\n",
       "    }\n",
       "\n",
       "    .dataframe thead th {\n",
       "        text-align: right;\n",
       "    }\n",
       "</style>\n",
       "<table border=\"1\" class=\"dataframe\">\n",
       "  <thead>\n",
       "    <tr style=\"text-align: right;\">\n",
       "      <th></th>\n",
       "      <th>re_stopwords</th>\n",
       "      <th>lemma_data</th>\n",
       "    </tr>\n",
       "  </thead>\n",
       "  <tbody>\n",
       "    <tr>\n",
       "      <th>0</th>\n",
       "      <td>[not, bunking, class, days, hey, thats, good]</td>\n",
       "      <td>[not, bunking, class, day, hey, thats, good]</td>\n",
       "    </tr>\n",
       "    <tr>\n",
       "      <th>1</th>\n",
       "      <td>[saroyel, taken, migraine, meds, icepack, not,...</td>\n",
       "      <td>[saroyel, taken, migraine, med, icepack, not, ...</td>\n",
       "    </tr>\n",
       "  </tbody>\n",
       "</table>\n",
       "</div>"
      ],
      "text/plain": [
       "                                        re_stopwords  \\\n",
       "0      [not, bunking, class, days, hey, thats, good]   \n",
       "1  [saroyel, taken, migraine, meds, icepack, not,...   \n",
       "\n",
       "                                          lemma_data  \n",
       "0       [not, bunking, class, day, hey, thats, good]  \n",
       "1  [saroyel, taken, migraine, med, icepack, not, ...  "
      ]
     },
     "execution_count": 317,
     "metadata": {},
     "output_type": "execute_result"
    }
   ],
   "source": [
    "df[['re_stopwords','lemma_data']].head(2)"
   ]
  },
  {
   "cell_type": "code",
   "execution_count": 318,
   "id": "778bef86",
   "metadata": {
    "scrolled": true
   },
   "outputs": [
    {
     "data": {
      "text/html": [
       "<div>\n",
       "<style scoped>\n",
       "    .dataframe tbody tr th:only-of-type {\n",
       "        vertical-align: middle;\n",
       "    }\n",
       "\n",
       "    .dataframe tbody tr th {\n",
       "        vertical-align: top;\n",
       "    }\n",
       "\n",
       "    .dataframe thead th {\n",
       "        text-align: right;\n",
       "    }\n",
       "</style>\n",
       "<table border=\"1\" class=\"dataframe\">\n",
       "  <thead>\n",
       "    <tr style=\"text-align: right;\">\n",
       "      <th></th>\n",
       "      <th>stem_data</th>\n",
       "      <th>lemma_data</th>\n",
       "    </tr>\n",
       "  </thead>\n",
       "  <tbody>\n",
       "    <tr>\n",
       "      <th>995</th>\n",
       "      <td>[labelsnotlov, woke, think, thing]</td>\n",
       "      <td>[labelsnotlove, woke, thinking, thing]</td>\n",
       "    </tr>\n",
       "    <tr>\n",
       "      <th>996</th>\n",
       "      <td>[davidfowl, can, one, envi, code, r]</td>\n",
       "      <td>[davidfowl, can, one, envy, code, r]</td>\n",
       "    </tr>\n",
       "    <tr>\n",
       "      <th>997</th>\n",
       "      <td>[due, insomnia, real, late, java, go, drink, m...</td>\n",
       "      <td>[due, insomnia, real, late, java, going, drink...</td>\n",
       "    </tr>\n",
       "    <tr>\n",
       "      <th>998</th>\n",
       "      <td>[go, softbal, game, tonight, rotari, park, com...</td>\n",
       "      <td>[going, softball, game, tonight, rotary, park,...</td>\n",
       "    </tr>\n",
       "    <tr>\n",
       "      <th>999</th>\n",
       "      <td>[realli, earli]</td>\n",
       "      <td>[really, early]</td>\n",
       "    </tr>\n",
       "  </tbody>\n",
       "</table>\n",
       "</div>"
      ],
      "text/plain": [
       "                                             stem_data  \\\n",
       "995                 [labelsnotlov, woke, think, thing]   \n",
       "996               [davidfowl, can, one, envi, code, r]   \n",
       "997  [due, insomnia, real, late, java, go, drink, m...   \n",
       "998  [go, softbal, game, tonight, rotari, park, com...   \n",
       "999                                    [realli, earli]   \n",
       "\n",
       "                                            lemma_data  \n",
       "995             [labelsnotlove, woke, thinking, thing]  \n",
       "996               [davidfowl, can, one, envy, code, r]  \n",
       "997  [due, insomnia, real, late, java, going, drink...  \n",
       "998  [going, softball, game, tonight, rotary, park,...  \n",
       "999                                    [really, early]  "
      ]
     },
     "execution_count": 318,
     "metadata": {},
     "output_type": "execute_result"
    }
   ],
   "source": [
    "df[['stem_data','lemma_data']].tail(5)"
   ]
  },
  {
   "cell_type": "code",
   "execution_count": 319,
   "id": "ea66c11e",
   "metadata": {},
   "outputs": [],
   "source": [
    "#9.remove the words having length less than 2\n",
    "def clean_len(text):\n",
    "    return[i for i in text if len(i)>2]"
   ]
  },
  {
   "cell_type": "code",
   "execution_count": 320,
   "id": "7b2a1ca7",
   "metadata": {},
   "outputs": [],
   "source": [
    "df['clean_len']=df['lemma_data'].apply(lambda x:clean_len(x))"
   ]
  },
  {
   "cell_type": "code",
   "execution_count": 321,
   "id": "d06457ea",
   "metadata": {},
   "outputs": [
    {
     "data": {
      "text/html": [
       "<div>\n",
       "<style scoped>\n",
       "    .dataframe tbody tr th:only-of-type {\n",
       "        vertical-align: middle;\n",
       "    }\n",
       "\n",
       "    .dataframe tbody tr th {\n",
       "        vertical-align: top;\n",
       "    }\n",
       "\n",
       "    .dataframe thead th {\n",
       "        text-align: right;\n",
       "    }\n",
       "</style>\n",
       "<table border=\"1\" class=\"dataframe\">\n",
       "  <thead>\n",
       "    <tr style=\"text-align: right;\">\n",
       "      <th></th>\n",
       "      <th>lemma_data</th>\n",
       "      <th>clean_len</th>\n",
       "    </tr>\n",
       "  </thead>\n",
       "  <tbody>\n",
       "    <tr>\n",
       "      <th>995</th>\n",
       "      <td>[labelsnotlove, woke, thinking, thing]</td>\n",
       "      <td>[labelsnotlove, woke, thinking, thing]</td>\n",
       "    </tr>\n",
       "    <tr>\n",
       "      <th>996</th>\n",
       "      <td>[davidfowl, can, one, envy, code, r]</td>\n",
       "      <td>[davidfowl, can, one, envy, code]</td>\n",
       "    </tr>\n",
       "    <tr>\n",
       "      <th>997</th>\n",
       "      <td>[due, insomnia, real, late, java, going, drink...</td>\n",
       "      <td>[due, insomnia, real, late, java, going, drink...</td>\n",
       "    </tr>\n",
       "    <tr>\n",
       "      <th>998</th>\n",
       "      <td>[going, softball, game, tonight, rotary, park,...</td>\n",
       "      <td>[going, softball, game, tonight, rotary, park,...</td>\n",
       "    </tr>\n",
       "    <tr>\n",
       "      <th>999</th>\n",
       "      <td>[really, early]</td>\n",
       "      <td>[really, early]</td>\n",
       "    </tr>\n",
       "  </tbody>\n",
       "</table>\n",
       "</div>"
      ],
      "text/plain": [
       "                                            lemma_data  \\\n",
       "995             [labelsnotlove, woke, thinking, thing]   \n",
       "996               [davidfowl, can, one, envy, code, r]   \n",
       "997  [due, insomnia, real, late, java, going, drink...   \n",
       "998  [going, softball, game, tonight, rotary, park,...   \n",
       "999                                    [really, early]   \n",
       "\n",
       "                                             clean_len  \n",
       "995             [labelsnotlove, woke, thinking, thing]  \n",
       "996                  [davidfowl, can, one, envy, code]  \n",
       "997  [due, insomnia, real, late, java, going, drink...  \n",
       "998  [going, softball, game, tonight, rotary, park,...  \n",
       "999                                    [really, early]  "
      ]
     },
     "execution_count": 321,
     "metadata": {},
     "output_type": "execute_result"
    }
   ],
   "source": [
    "df[['lemma_data','clean_len']].tail()"
   ]
  },
  {
   "cell_type": "code",
   "execution_count": 322,
   "id": "68152837",
   "metadata": {},
   "outputs": [],
   "source": [
    "#10.Get Tidy Data\n",
    "def convert_data(text):\n",
    "    return ' '.join(text)\n"
   ]
  },
  {
   "cell_type": "code",
   "execution_count": 323,
   "id": "c45f4f1e",
   "metadata": {},
   "outputs": [],
   "source": [
    "df['Tidy_Data']=df['clean_len'].apply(lambda x:convert_data(x))"
   ]
  },
  {
   "cell_type": "code",
   "execution_count": 330,
   "id": "2a98a3f2",
   "metadata": {},
   "outputs": [
    {
     "data": {
      "text/html": [
       "<div>\n",
       "<style scoped>\n",
       "    .dataframe tbody tr th:only-of-type {\n",
       "        vertical-align: middle;\n",
       "    }\n",
       "\n",
       "    .dataframe tbody tr th {\n",
       "        vertical-align: top;\n",
       "    }\n",
       "\n",
       "    .dataframe thead th {\n",
       "        text-align: right;\n",
       "    }\n",
       "</style>\n",
       "<table border=\"1\" class=\"dataframe\">\n",
       "  <thead>\n",
       "    <tr style=\"text-align: right;\">\n",
       "      <th></th>\n",
       "      <th>Scrapped_text</th>\n",
       "      <th>Tidy_Data</th>\n",
       "    </tr>\n",
       "  </thead>\n",
       "  <tbody>\n",
       "    <tr>\n",
       "      <th>0</th>\n",
       "      <td>I'm not bunking any class there 2 days. Hey, t...</td>\n",
       "      <td>not bunking class day hey thats good</td>\n",
       "    </tr>\n",
       "    <tr>\n",
       "      <th>1</th>\n",
       "      <td>@Saroyel I've taken my migraine meds, and have...</td>\n",
       "      <td>saroyel taken migraine med icepack not going away</td>\n",
       "    </tr>\n",
       "    <tr>\n",
       "      <th>2</th>\n",
       "      <td>@PRCog You are killing me with this. I so wish...</td>\n",
       "      <td>prcog killing wish going masquertweet boo</td>\n",
       "    </tr>\n",
       "    <tr>\n",
       "      <th>3</th>\n",
       "      <td>@selenagomez cut her hair off. my poor guy fri...</td>\n",
       "      <td>selenagomez cut hair poor guy friend going cru...</td>\n",
       "    </tr>\n",
       "    <tr>\n",
       "      <th>4</th>\n",
       "      <td>that is hilarious! Https://www.amazon.in</td>\n",
       "      <td>hilarious</td>\n",
       "    </tr>\n",
       "  </tbody>\n",
       "</table>\n",
       "</div>"
      ],
      "text/plain": [
       "                                       Scrapped_text  \\\n",
       "0  I'm not bunking any class there 2 days. Hey, t...   \n",
       "1  @Saroyel I've taken my migraine meds, and have...   \n",
       "2  @PRCog You are killing me with this. I so wish...   \n",
       "3  @selenagomez cut her hair off. my poor guy fri...   \n",
       "4           that is hilarious! Https://www.amazon.in   \n",
       "\n",
       "                                           Tidy_Data  \n",
       "0               not bunking class day hey thats good  \n",
       "1  saroyel taken migraine med icepack not going away  \n",
       "2          prcog killing wish going masquertweet boo  \n",
       "3  selenagomez cut hair poor guy friend going cru...  \n",
       "4                                          hilarious  "
      ]
     },
     "execution_count": 330,
     "metadata": {},
     "output_type": "execute_result"
    }
   ],
   "source": [
    "df[['Scrapped_text','Tidy_Data']].head()"
   ]
  },
  {
   "cell_type": "code",
   "execution_count": 325,
   "id": "4c2318a7",
   "metadata": {},
   "outputs": [],
   "source": [
    "import re\n",
    "import nltk\n",
    "from nltk.tokenize import word_tokenize\n",
    "from nltk.tokenize import sent_tokenize\n",
    "from nltk.corpus import stopwords\n",
    "from nltk.stem.porter import PorterStemmer\n",
    "from nltk.stem import WordNetLemmatizer\n",
    "porter_stemmer = PorterStemmer()\n",
    "lemma= WordNetLemmatizer()\n",
    "stop=set(stopwords.words('english'))"
   ]
  },
  {
   "cell_type": "code",
   "execution_count": 326,
   "id": "bf873db7",
   "metadata": {},
   "outputs": [],
   "source": [
    "def preprocess(review):\n",
    "    review=str(review).lower()\n",
    "    review=contracted(review)\n",
    "    review=re.sub(r'http\\S+', '',review)\n",
    "    review=BeautifulSoup(review, \"lxml\").text\n",
    "    review=re.sub('[^a-zA-Z]',' ',review)\n",
    "    review=word_tokenize(review)\n",
    "    review=[i for i in review if i not in stop or i in[['can','not','very']]]\n",
    "    review=[lemma.lemmatize(word=i,pos='v')for i in review ]\n",
    "    review=[i for i in review if len(i)> 2]\n",
    "    review=' '.join(review)\n",
    "    return review"
   ]
  },
  {
   "cell_type": "code",
   "execution_count": 331,
   "id": "ee21f4cc",
   "metadata": {},
   "outputs": [],
   "source": [
    "d=pd.read_csv('d1.csv')\n",
    "d['Clean']=d['Scrapped_text'].apply(preprocess)"
   ]
  },
  {
   "cell_type": "code",
   "execution_count": 332,
   "id": "42182a08",
   "metadata": {},
   "outputs": [
    {
     "data": {
      "text/html": [
       "<div>\n",
       "<style scoped>\n",
       "    .dataframe tbody tr th:only-of-type {\n",
       "        vertical-align: middle;\n",
       "    }\n",
       "\n",
       "    .dataframe tbody tr th {\n",
       "        vertical-align: top;\n",
       "    }\n",
       "\n",
       "    .dataframe thead th {\n",
       "        text-align: right;\n",
       "    }\n",
       "</style>\n",
       "<table border=\"1\" class=\"dataframe\">\n",
       "  <thead>\n",
       "    <tr style=\"text-align: right;\">\n",
       "      <th></th>\n",
       "      <th>target</th>\n",
       "      <th>Scrapped_text</th>\n",
       "      <th>Clean</th>\n",
       "    </tr>\n",
       "  </thead>\n",
       "  <tbody>\n",
       "    <tr>\n",
       "      <th>995</th>\n",
       "      <td>4</td>\n",
       "      <td>@labelsnotlove i woke up thinking the same thing</td>\n",
       "      <td>labelsnotlove wake think thing</td>\n",
       "    </tr>\n",
       "    <tr>\n",
       "      <th>996</th>\n",
       "      <td>4</td>\n",
       "      <td>@davidfowl There can be only one! Envy Code R</td>\n",
       "      <td>davidfowl one envy code</td>\n",
       "    </tr>\n",
       "    <tr>\n",
       "      <th>997</th>\n",
       "      <td>4</td>\n",
       "      <td>Due to my insomnia I will be up real late, so,...</td>\n",
       "      <td>due insomnia real late java drink morning drin...</td>\n",
       "    </tr>\n",
       "    <tr>\n",
       "      <th>998</th>\n",
       "      <td>4</td>\n",
       "      <td>Going to the softball game tonight.. 6-8 at ro...</td>\n",
       "      <td>softball game tonight rotary park come support...</td>\n",
       "    </tr>\n",
       "    <tr>\n",
       "      <th>999</th>\n",
       "      <td>0</td>\n",
       "      <td>...it's   really too early.</td>\n",
       "      <td>really early</td>\n",
       "    </tr>\n",
       "  </tbody>\n",
       "</table>\n",
       "</div>"
      ],
      "text/plain": [
       "     target                                      Scrapped_text  \\\n",
       "995       4  @labelsnotlove i woke up thinking the same thing    \n",
       "996       4     @davidfowl There can be only one! Envy Code R    \n",
       "997       4  Due to my insomnia I will be up real late, so,...   \n",
       "998       4  Going to the softball game tonight.. 6-8 at ro...   \n",
       "999       0                      ...it's   really too early.     \n",
       "\n",
       "                                                 Clean  \n",
       "995                     labelsnotlove wake think thing  \n",
       "996                            davidfowl one envy code  \n",
       "997  due insomnia real late java drink morning drin...  \n",
       "998  softball game tonight rotary park come support...  \n",
       "999                                       really early  "
      ]
     },
     "execution_count": 332,
     "metadata": {},
     "output_type": "execute_result"
    }
   ],
   "source": [
    "d.tail()"
   ]
  },
  {
   "cell_type": "code",
   "execution_count": null,
   "id": "197a4432",
   "metadata": {},
   "outputs": [],
   "source": []
  }
 ],
 "metadata": {
  "kernelspec": {
   "display_name": "Python 3",
   "language": "python",
   "name": "python3"
  },
  "language_info": {
   "codemirror_mode": {
    "name": "ipython",
    "version": 3
   },
   "file_extension": ".py",
   "mimetype": "text/x-python",
   "name": "python",
   "nbconvert_exporter": "python",
   "pygments_lexer": "ipython3",
   "version": "3.8.8"
  }
 },
 "nbformat": 4,
 "nbformat_minor": 5
}
